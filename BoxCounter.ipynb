{
 "cells": [
  {
   "cell_type": "code",
   "execution_count": 7,
   "metadata": {},
   "outputs": [],
   "source": [
    "import cv2\n",
    "\n",
    "boxes_classifier=cv2.CascadeClassifier('cascadebox8.xml')\n",
    "\n",
    "camera=cv2.VideoCapture('slowbox.mp4')\n",
    "\n",
    "count=0\n",
    "asd=0\n",
    "\n",
    "while(True):\n",
    "\n",
    "    ret,img=camera.read()\n",
    "    asd=asd+1\n",
    "    height,width=img.shape[0:2]\n",
    "    \n",
    "    img[0:70,0:width]=[0,0,255]\n",
    "    cv2.putText(img,'BOX COUNT:',(10,50),cv2.FONT_HERSHEY_SIMPLEX,1.5,(255,255,255),2)\n",
    "    \n",
    "    cv2.line(img,(0,height-300),(width,height-300),(0,255,255),2)\n",
    "    \n",
    "    #blur=cv2.blur(img,(3,3))\n",
    "    blur=cv2.bilateralFilter(img,9,180,50)\n",
    "    gray=cv2.cvtColor(blur,cv2.COLOR_BGR2GRAY)\n",
    "    \n",
    "    boxes=boxes_classifier.detectMultiScale(gray,scaleFactor=1.3,minNeighbors=3,minSize=(250,250))\n",
    "    \n",
    "    for (x,y,w,h) in boxes:\n",
    "        \n",
    "        boxCy=int(y+55*(h/100))\n",
    "        linCy=height-200\n",
    "        \n",
    "        if(boxCy<linCy+1.5 and boxCy>linCy-1.5 and ((asd)%2==0)):\n",
    "            \n",
    "            count=count+1\n",
    "            cv2.line(img,(0,height-200),(width,height-200),(0,0,255),5)\n",
    "        \n",
    "        cv2.rectangle(img,(x,y),(x+w,y+h),(0,255,0),2)\n",
    "        cv2.putText(img,'Box',(x,y-10),cv2.FONT_HERSHEY_SIMPLEX,0.5,(0,255,0),2)\n",
    "        cv2.putText(img,str(count),(500,50),cv2.FONT_HERSHEY_SIMPLEX,1.5,(255,255,255),2)\n",
    "        \n",
    "    cv2.imshow('LIVE',img)\n",
    "    key=cv2.waitKey(1)\n",
    "    \n",
    "    if key==27:\n",
    "        break\n",
    "\n",
    "cv2.destroyAllWindows()\n",
    "camera.release()"
   ]
  },
  {
   "cell_type": "code",
   "execution_count": null,
   "metadata": {},
   "outputs": [],
   "source": []
  },
  {
   "cell_type": "code",
   "execution_count": null,
   "metadata": {},
   "outputs": [],
   "source": []
  }
 ],
 "metadata": {
  "kernelspec": {
   "display_name": "Python 3",
   "language": "python",
   "name": "python3"
  },
  "language_info": {
   "codemirror_mode": {
    "name": "ipython",
    "version": 3
   },
   "file_extension": ".py",
   "mimetype": "text/x-python",
   "name": "python",
   "nbconvert_exporter": "python",
   "pygments_lexer": "ipython3",
   "version": "3.7.4"
  }
 },
 "nbformat": 4,
 "nbformat_minor": 2
}
